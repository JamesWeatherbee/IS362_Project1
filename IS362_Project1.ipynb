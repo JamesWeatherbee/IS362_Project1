{
 "cells": [
  {
   "cell_type": "markdown",
   "metadata": {},
   "source": [
    "# IS362 Project 1 - Flight Delays"
   ]
  },
  {
   "cell_type": "code",
   "execution_count": 8,
   "metadata": {},
   "outputs": [],
   "source": [
    "from pandas import DataFrame, read_csv\n",
    "import matplotlib.pyplot as plt\n",
    "import pandas as pd\n",
    "import numpy as np\n",
    "\n",
    "%matplotlib inline"
   ]
  },
  {
   "cell_type": "markdown",
   "metadata": {},
   "source": [
    "This converts the CSV to a DataFrame."
   ]
  },
  {
   "cell_type": "code",
   "execution_count": 9,
   "metadata": {
    "scrolled": false
   },
   "outputs": [
    {
     "data": {
      "text/html": [
       "<div>\n",
       "<style scoped>\n",
       "    .dataframe tbody tr th:only-of-type {\n",
       "        vertical-align: middle;\n",
       "    }\n",
       "\n",
       "    .dataframe tbody tr th {\n",
       "        vertical-align: top;\n",
       "    }\n",
       "\n",
       "    .dataframe thead th {\n",
       "        text-align: right;\n",
       "    }\n",
       "</style>\n",
       "<table border=\"1\" class=\"dataframe\">\n",
       "  <thead>\n",
       "    <tr style=\"text-align: right;\">\n",
       "      <th></th>\n",
       "      <th>Airline</th>\n",
       "      <th>Flight Status</th>\n",
       "      <th>Los Angeles</th>\n",
       "      <th>Phoenix</th>\n",
       "      <th>San Diego</th>\n",
       "      <th>San Francisco</th>\n",
       "      <th>Seattle</th>\n",
       "    </tr>\n",
       "  </thead>\n",
       "  <tbody>\n",
       "    <tr>\n",
       "      <th>0</th>\n",
       "      <td>ALASKA</td>\n",
       "      <td>on time</td>\n",
       "      <td>497</td>\n",
       "      <td>221</td>\n",
       "      <td>212</td>\n",
       "      <td>503</td>\n",
       "      <td>1841</td>\n",
       "    </tr>\n",
       "    <tr>\n",
       "      <th>1</th>\n",
       "      <td>ALASKA</td>\n",
       "      <td>delayed</td>\n",
       "      <td>62</td>\n",
       "      <td>12</td>\n",
       "      <td>20</td>\n",
       "      <td>102</td>\n",
       "      <td>305</td>\n",
       "    </tr>\n",
       "    <tr>\n",
       "      <th>2</th>\n",
       "      <td>AM WEST</td>\n",
       "      <td>on time</td>\n",
       "      <td>694</td>\n",
       "      <td>4840</td>\n",
       "      <td>383</td>\n",
       "      <td>320</td>\n",
       "      <td>201</td>\n",
       "    </tr>\n",
       "    <tr>\n",
       "      <th>3</th>\n",
       "      <td>AM WEST</td>\n",
       "      <td>delayed</td>\n",
       "      <td>117</td>\n",
       "      <td>415</td>\n",
       "      <td>65</td>\n",
       "      <td>129</td>\n",
       "      <td>61</td>\n",
       "    </tr>\n",
       "  </tbody>\n",
       "</table>\n",
       "</div>"
      ],
      "text/plain": [
       "   Airline Flight Status  Los Angeles  Phoenix  San Diego  San Francisco  \\\n",
       "0   ALASKA       on time          497      221        212            503   \n",
       "1   ALASKA       delayed           62       12         20            102   \n",
       "2  AM WEST       on time          694     4840        383            320   \n",
       "3  AM WEST       delayed          117      415         65            129   \n",
       "\n",
       "   Seattle  \n",
       "0     1841  \n",
       "1      305  \n",
       "2      201  \n",
       "3       61  "
      ]
     },
     "execution_count": 9,
     "metadata": {},
     "output_type": "execute_result"
    }
   ],
   "source": [
    "Location = r'/Users/jamesweatherbee/Desktop/School/IS362_DataAquisition/IS362_Project1_CSV.csv'\n",
    "df = pd.read_csv(Location)\n",
    "df.columns = ['Airline', 'Flight Status', 'Los Angeles', 'Phoenix',\n",
    "             'San Diego', 'San Francisco', 'Seattle']\n",
    "df"
   ]
  },
  {
   "cell_type": "code",
   "execution_count": 10,
   "metadata": {},
   "outputs": [],
   "source": [
    "import os\n",
    "os.remove(Location)"
   ]
  },
  {
   "cell_type": "markdown",
   "metadata": {},
   "source": [
    "This is the total of all Alaska delays."
   ]
  },
  {
   "cell_type": "code",
   "execution_count": 16,
   "metadata": {
    "scrolled": true
   },
   "outputs": [
    {
     "name": "stdout",
     "output_type": "stream",
     "text": [
      "Total Amount of Alaska Delayed Flights\n"
     ]
    },
    {
     "data": {
      "text/plain": [
       "501"
      ]
     },
     "execution_count": 16,
     "metadata": {},
     "output_type": "execute_result"
    }
   ],
   "source": [
    "sum_alaska_delayed = df.loc[1, 'Los Angeles': 'Seattle'].sum()\n",
    "print('Total Amount of Alaska Delayed Flights')\n",
    "sum_alaska_delayed"
   ]
  },
  {
   "cell_type": "markdown",
   "metadata": {},
   "source": [
    "This is the total of all AmWest delays."
   ]
  },
  {
   "cell_type": "code",
   "execution_count": 17,
   "metadata": {},
   "outputs": [
    {
     "name": "stdout",
     "output_type": "stream",
     "text": [
      "Total Amount of AmWest Delayed Flights\n"
     ]
    },
    {
     "data": {
      "text/plain": [
       "787"
      ]
     },
     "execution_count": 17,
     "metadata": {},
     "output_type": "execute_result"
    }
   ],
   "source": [
    "sum_amwest_delayed = df.loc[3, 'Los Angeles': 'Seattle'].sum()\n",
    "print('Total Amount of AmWest Delayed Flights')\n",
    "sum_amwest_delayed"
   ]
  },
  {
   "cell_type": "markdown",
   "metadata": {},
   "source": [
    "This is the total of ALL Alaska Flights"
   ]
  },
  {
   "cell_type": "code",
   "execution_count": 13,
   "metadata": {},
   "outputs": [
    {
     "data": {
      "text/plain": [
       "Los Angeles       559\n",
       "Phoenix           233\n",
       "San Diego         232\n",
       "San Francisco     605\n",
       "Seattle          2146\n",
       "dtype: int64"
      ]
     },
     "execution_count": 13,
     "metadata": {},
     "output_type": "execute_result"
    }
   ],
   "source": [
    "sum_alaska_all = df.loc[0:1, 'Los Angeles': 'Seattle'].sum()\n",
    "print('Total Amount of All Alaska Flights')\n",
    "sum_alaska_all"
   ]
  },
  {
   "cell_type": "markdown",
   "metadata": {},
   "source": [
    "This is the total of ALL AmWest Flights"
   ]
  },
  {
   "cell_type": "code",
   "execution_count": 20,
   "metadata": {
    "scrolled": true
   },
   "outputs": [
    {
     "name": "stdout",
     "output_type": "stream",
     "text": [
      "Total Amount of All Alaska Flights\n"
     ]
    },
    {
     "data": {
      "text/plain": [
       "Los Angeles       811\n",
       "Phoenix          5255\n",
       "San Diego         448\n",
       "San Francisco     449\n",
       "Seattle           262\n",
       "dtype: int64"
      ]
     },
     "execution_count": 20,
     "metadata": {},
     "output_type": "execute_result"
    }
   ],
   "source": [
    "sum_amwest_all = df.loc[2:3, 'Los Angeles': 'Seattle'].sum()\n",
    "print('Total Amount of All Alaska Flights')\n",
    "sum_amwest_all"
   ]
  },
  {
   "cell_type": "markdown",
   "metadata": {},
   "source": [
    "Using matplotlib, this bar graph displays the status of Alaska flights from each flight."
   ]
  },
  {
   "cell_type": "code",
   "execution_count": 25,
   "metadata": {},
   "outputs": [
    {
     "data": {
      "image/png": "[encoded data removed]",
      "text/plain": [
       "<Figure size 432x288 with 1 Axes>"
      ]
     },
     "metadata": {
      "needs_background": "light"
     },
     "output_type": "display_data"
    }
   ],
   "source": [
    "n_groups = 5\n",
    "alaska_ontime = (497,221,212,503,1841)\n",
    "alaska_delayed = (62,12,20,102,305)\n",
    "\n",
    "fig, ax = plt.subplots()\n",
    "index = np.arange(n_groups)\n",
    "bar_width = 0.35\n",
    "opacity = 0.8\n",
    "\n",
    "rects1 = plt.bar(index, alaska_ontime, bar_width, alpha=opacity,\n",
    "                color='b', label='On Time')\n",
    "rects2 = plt.bar(index + bar_width, alaska_delayed, bar_width, alpha=opacity,\n",
    "                color='g', label='Delayed')\n",
    "\n",
    "plt.xlabel('City')\n",
    "plt.ylabel('Number of Flights')\n",
    "plt.title('Alaska Flight Status')\n",
    "plt.xticks(index + bar_width, ('Los Angeles', 'Phoenix', 'San Diego',\n",
    "                               'San Francisco', 'Seattle'))\n",
    "plt.legend()\n",
    "\n",
    "plt.tight_layout()\n",
    "plt.show()"
   ]
  },
  {
   "cell_type": "markdown",
   "metadata": {},
   "source": [
    "Using matplotlib, this bar graph displays the status of AmWest flights from each flight."
   ]
  },
  {
   "cell_type": "code",
   "execution_count": 26,
   "metadata": {},
   "outputs": [
    {
     "data": {
      "image/png": "[encoded data removed]",
      "text/plain": [
       "<Figure size 432x288 with 1 Axes>"
      ]
     },
     "metadata": {
      "needs_background": "light"
     },
     "output_type": "display_data"
    }
   ],
   "source": [
    "n_groups = 5\n",
    "amwest_ontime = (694, 4840, 383, 320, 201)\n",
    "amwest_delayed = (117, 415, 65, 129, 61)\n",
    "\n",
    "fig, ax = plt.subplots()\n",
    "index = np.arange(n_groups)\n",
    "bar_width = 0.35\n",
    "opacity = 0.8\n",
    "\n",
    "rects1 = plt.bar(index, alaska_ontime, bar_width, alpha=opacity,\n",
    "                color='b', label='On Time')\n",
    "rects2 = plt.bar(index + bar_width, alaska_delayed, bar_width, alpha=opacity,\n",
    "                color='g', label='Delayed')\n",
    "\n",
    "plt.xlabel('City')\n",
    "plt.ylabel('Number of Flights')\n",
    "plt.title('AmWest Flight Status')\n",
    "plt.xticks(index + bar_width, ('Los Angeles', 'Phoenix', 'San Diego',\n",
    "                               'San Francisco', 'Seattle'))\n",
    "plt.legend()\n",
    "\n",
    "plt.tight_layout()\n",
    "plt.show()"
   ]
  },
  {
   "cell_type": "markdown",
   "metadata": {},
   "source": [
    "This bar chart compares the delayed flights for both airlines and also shows the total amount of flights (both delayed and ontime) to reflect the portion of delayed flights from each city versus total flights.  "
   ]
  },
  {
   "cell_type": "code",
   "execution_count": 49,
   "metadata": {},
   "outputs": [
    {
     "data": {
      "image/png": "[encoded data removed]",
      "text/plain": [
       "<Figure size 432x288 with 1 Axes>"
      ]
     },
     "metadata": {
      "needs_background": "light"
     },
     "output_type": "display_data"
    }
   ],
   "source": [
    "n_groups = 5\n",
    "alaska_delayed = (62,12,20,102,305)\n",
    "amwest_delayed = (117, 415, 65, 129, 61)\n",
    "alaska_ontime = (497,221,212,503,1841)\n",
    "amwest_ontime = (694, 4840, 383, 320, 201)\n",
    "\n",
    "alaska_total = [sum(i) for i in zip(alaska_delayed, alaska_ontime)]\n",
    "amwest_total = [sum(i) for i in zip(amwest_delayed, amwest_ontime)]\n",
    "\n",
    "fig, ax = plt.subplots()\n",
    "index = np.arange(n_groups)\n",
    "bar_width = 0.15\n",
    "opacity = 0.8\n",
    "\n",
    "rects1 = plt.bar(index, alaska_delayed, bar_width, alpha=opacity,\n",
    "                color='b', label='Alaska')\n",
    "rects2 = plt.bar(index + bar_width, amwest_delayed, bar_width, alpha=opacity,\n",
    "                color='g', label='AmWest')\n",
    "rects3 = plt.bar(index + 2*bar_width, alaska_total, bar_width, alpha=opacity,\n",
    "                color='r', label='Alaska Total')\n",
    "rects4 = plt.bar(index + 3*bar_width, amwest_total, bar_width, alpha=opacity,\n",
    "                color='y', label='AmWest Total')\n",
    "\n",
    "plt.xlabel('City')\n",
    "plt.ylabel('Number of Flights')\n",
    "plt.title('Alaska vs. AmWest Delayed Flights')\n",
    "plt.xticks(index + bar_width, ('Los Angeles', 'Phoenix', 'San Diego',\n",
    "                               'San Francisco', 'Seattle'))\n",
    "plt.legend()\n",
    "\n",
    "plt.tight_layout()\n",
    "plt.show()"
   ]
  }
 ],
 "metadata": {
  "kernelspec": {
   "display_name": "Python 3",
   "language": "python",
   "name": "python3"
  },
  "language_info": {
   "codemirror_mode": {
    "name": "ipython",
    "version": 3
   },
   "file_extension": ".py",
   "mimetype": "text/x-python",
   "name": "python",
   "nbconvert_exporter": "python",
   "pygments_lexer": "ipython3",
   "version": "3.8.5"
  }
 },
 "nbformat": 4,
 "nbformat_minor": 4
}
